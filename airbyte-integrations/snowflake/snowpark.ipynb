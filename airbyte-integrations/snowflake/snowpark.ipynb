{
 "cells": [
  {
   "cell_type": "code",
   "execution_count": 1,
   "id": "2c809474",
   "metadata": {},
   "outputs": [
    {
     "name": "stdout",
     "output_type": "stream",
     "text": [
      "Defaulting to user installation because normal site-packages is not writeable\n",
      "Requirement already satisfied: snowflake-snowpark-python in /Users/alex/Library/Python/3.8/lib/python/site-packages (0.9.0)\n",
      "Requirement already satisfied: typing-extensions>=4.1.0 in /Users/alex/Library/Python/3.8/lib/python/site-packages (from snowflake-snowpark-python) (4.3.0)\n",
      "Requirement already satisfied: setuptools>=40.6.0 in /Library/Developer/CommandLineTools/Library/Frameworks/Python3.framework/Versions/3.8/lib/python3.8/site-packages (from snowflake-snowpark-python) (49.2.1)\n",
      "Requirement already satisfied: wheel in /Library/Developer/CommandLineTools/Library/Frameworks/Python3.framework/Versions/3.8/lib/python3.8/site-packages (from snowflake-snowpark-python) (0.36.2)\n",
      "Requirement already satisfied: cloudpickle<=2.0.0,>=1.6.0 in /Users/alex/Library/Python/3.8/lib/python/site-packages (from snowflake-snowpark-python) (2.0.0)\n",
      "Requirement already satisfied: snowflake-connector-python>=2.7.11 in /Users/alex/Library/Python/3.8/lib/python/site-packages (from snowflake-snowpark-python) (2.7.12)\n",
      "Requirement already satisfied: pycryptodomex!=3.5.0,<4.0.0,>=3.2 in /Users/alex/Library/Python/3.8/lib/python/site-packages (from snowflake-connector-python>=2.7.11->snowflake-snowpark-python) (3.15.0)\n",
      "Requirement already satisfied: certifi>=2017.4.17 in /Users/alex/Library/Python/3.8/lib/python/site-packages (from snowflake-connector-python>=2.7.11->snowflake-snowpark-python) (2021.10.8)\n",
      "Requirement already satisfied: requests<3.0.0 in /Users/alex/Library/Python/3.8/lib/python/site-packages (from snowflake-connector-python>=2.7.11->snowflake-snowpark-python) (2.27.1)\n",
      "Requirement already satisfied: oscrypto<2.0.0 in /Users/alex/Library/Python/3.8/lib/python/site-packages (from snowflake-connector-python>=2.7.11->snowflake-snowpark-python) (1.3.0)\n",
      "Requirement already satisfied: charset-normalizer<3,>=2 in /Users/alex/Library/Python/3.8/lib/python/site-packages (from snowflake-connector-python>=2.7.11->snowflake-snowpark-python) (2.0.12)\n",
      "Requirement already satisfied: idna<4,>=2.5 in /Users/alex/Library/Python/3.8/lib/python/site-packages (from snowflake-connector-python>=2.7.11->snowflake-snowpark-python) (3.3)\n",
      "Requirement already satisfied: urllib3<1.27,>=1.21.1 in /Users/alex/Library/Python/3.8/lib/python/site-packages (from snowflake-connector-python>=2.7.11->snowflake-snowpark-python) (1.26.8)\n",
      "Requirement already satisfied: pytz in /Users/alex/Library/Python/3.8/lib/python/site-packages (from snowflake-connector-python>=2.7.11->snowflake-snowpark-python) (2021.3)\n",
      "Requirement already satisfied: asn1crypto<2.0.0,>0.24.0 in /Users/alex/Library/Python/3.8/lib/python/site-packages (from snowflake-connector-python>=2.7.11->snowflake-snowpark-python) (1.5.1)\n",
      "Requirement already satisfied: pyOpenSSL<23.0.0,>=16.2.0 in /Users/alex/Library/Python/3.8/lib/python/site-packages (from snowflake-connector-python>=2.7.11->snowflake-snowpark-python) (22.0.0)\n",
      "Requirement already satisfied: cffi<2.0.0,>=1.9 in /Users/alex/Library/Python/3.8/lib/python/site-packages (from snowflake-connector-python>=2.7.11->snowflake-snowpark-python) (1.15.0)\n",
      "Requirement already satisfied: pyjwt<3.0.0 in /Users/alex/Library/Python/3.8/lib/python/site-packages (from snowflake-connector-python>=2.7.11->snowflake-snowpark-python) (2.4.0)\n",
      "Requirement already satisfied: filelock<4,>=3.5 in /Users/alex/Library/Python/3.8/lib/python/site-packages (from snowflake-connector-python>=2.7.11->snowflake-snowpark-python) (3.8.0)\n",
      "Requirement already satisfied: cryptography<37.0.0,>=3.1.0 in /Users/alex/Library/Python/3.8/lib/python/site-packages (from snowflake-connector-python>=2.7.11->snowflake-snowpark-python) (36.0.2)\n",
      "Requirement already satisfied: pycparser in /Users/alex/Library/Python/3.8/lib/python/site-packages (from cffi<2.0.0,>=1.9->snowflake-connector-python>=2.7.11->snowflake-snowpark-python) (2.21)\n",
      "\n",
      "\u001b[1m[\u001b[0m\u001b[34;49mnotice\u001b[0m\u001b[1;39;49m]\u001b[0m\u001b[39;49m A new release of pip available: \u001b[0m\u001b[31;49m22.1.2\u001b[0m\u001b[39;49m -> \u001b[0m\u001b[32;49m22.2.2\u001b[0m\n",
      "\u001b[1m[\u001b[0m\u001b[34;49mnotice\u001b[0m\u001b[1;39;49m]\u001b[0m\u001b[39;49m To update, run: \u001b[0m\u001b[32;49m/Library/Developer/CommandLineTools/usr/bin/python3 -m pip install --upgrade pip\u001b[0m\n",
      "Note: you may need to restart the kernel to use updated packages.\n",
      "Defaulting to user installation because normal site-packages is not writeable\n",
      "Requirement already satisfied: boto3 in /Users/alex/Library/Python/3.8/lib/python/site-packages (1.24.67)\n",
      "Requirement already satisfied: s3transfer<0.7.0,>=0.6.0 in /Users/alex/Library/Python/3.8/lib/python/site-packages (from boto3) (0.6.0)\n",
      "Requirement already satisfied: jmespath<2.0.0,>=0.7.1 in /Users/alex/Library/Python/3.8/lib/python/site-packages (from boto3) (1.0.1)\n",
      "Requirement already satisfied: botocore<1.28.0,>=1.27.67 in /Users/alex/Library/Python/3.8/lib/python/site-packages (from boto3) (1.27.67)\n",
      "Requirement already satisfied: urllib3<1.27,>=1.25.4 in /Users/alex/Library/Python/3.8/lib/python/site-packages (from botocore<1.28.0,>=1.27.67->boto3) (1.26.8)\n",
      "Requirement already satisfied: python-dateutil<3.0.0,>=2.1 in /Users/alex/Library/Python/3.8/lib/python/site-packages (from botocore<1.28.0,>=1.27.67->boto3) (2.8.2)\n",
      "Requirement already satisfied: six>=1.5 in /Library/Developer/CommandLineTools/Library/Frameworks/Python3.framework/Versions/3.8/lib/python3.8/site-packages (from python-dateutil<3.0.0,>=2.1->botocore<1.28.0,>=1.27.67->boto3) (1.15.0)\n",
      "\n",
      "\u001b[1m[\u001b[0m\u001b[34;49mnotice\u001b[0m\u001b[1;39;49m]\u001b[0m\u001b[39;49m A new release of pip available: \u001b[0m\u001b[31;49m22.1.2\u001b[0m\u001b[39;49m -> \u001b[0m\u001b[32;49m22.2.2\u001b[0m\n",
      "\u001b[1m[\u001b[0m\u001b[34;49mnotice\u001b[0m\u001b[1;39;49m]\u001b[0m\u001b[39;49m To update, run: \u001b[0m\u001b[32;49m/Library/Developer/CommandLineTools/usr/bin/python3 -m pip install --upgrade pip\u001b[0m\n",
      "Note: you may need to restart the kernel to use updated packages.\n"
     ]
    }
   ],
   "source": [
    "%pip install snowflake-snowpark-python\n",
    "%pip install boto3"
   ]
  },
  {
   "cell_type": "code",
   "execution_count": 2,
   "id": "2e0be86b",
   "metadata": {},
   "outputs": [],
   "source": [
    "import json\n",
    "import os\n",
    "from snowflake.snowpark import Session\n",
    "from snowflake.snowpark.functions import sproc\n",
    "import snowflake.snowpark\n",
    "from snowflake.snowpark.types import IntegerType\n",
    "import boto3\n",
    "import logging\n",
    "import sys\n",
    "import snowflake.snowpark\n",
    "from snowflake.snowpark.functions import sproc\n",
    "from snowflake.snowpark.types import IntegerType"
   ]
  },
  {
   "cell_type": "code",
   "execution_count": 3,
   "id": "7b052b39",
   "metadata": {},
   "outputs": [],
   "source": [
    "# Load snowflake secrets and. create the session\n",
    "with open(\"./secrets/config.json\", \"r\") as f:\n",
    "    connection_parameters = json.loads(f.read())\n",
    "test_session = Session.builder.configs(connection_parameters).create()"
   ]
  },
  {
   "cell_type": "code",
   "execution_count": 4,
   "id": "9562e07c",
   "metadata": {},
   "outputs": [],
   "source": [
    "# load greenhouse apikey\n",
    "with open(\"./secrets/greenhouse.json\", \"r\") as f:\n",
    "    greenhouse_apikey = json.loads(f.read())[\"api_key\"]"
   ]
  },
  {
   "cell_type": "code",
   "execution_count": 5,
   "id": "debb6638",
   "metadata": {},
   "outputs": [],
   "source": [
    "bucket = \"airbyte.alex\"\n",
    "connector = \"source-pokeapi\"\n",
    "aws_role_arn = \"arn:aws:iam::168714685353:role/snowflake-api-gateway-test\"\n",
    "api_gateway_url = \"https://w72cfwmned.execute-api.us-west-1.amazonaws.com/stage\"\n",
    "api_integration_name = f\"{connector}_api_integration\".replace(\"-\", \"_\")"
   ]
  },
  {
   "cell_type": "code",
   "execution_count": 6,
   "id": "469e91c6",
   "metadata": {},
   "outputs": [],
   "source": [
    "logging.basicConfig(stream=sys.stdout, level=logging.INFO)"
   ]
  },
  {
   "cell_type": "code",
   "execution_count": 7,
   "id": "e6a6c430",
   "metadata": {},
   "outputs": [
    {
     "name": "stdout",
     "output_type": "stream",
     "text": [
      "INFO:snowflake.connector.cursor:query: [describe integration source_pokeapi_api_integration]\n",
      "INFO:snowflake.connector.cursor:query execution done\n"
     ]
    },
    {
     "data": {
      "text/plain": [
       "[Row(property='ENABLED', property_type='Boolean', property_value='true', property_default='false'),\n",
       " Row(property='API_KEY', property_type='String', property_value='', property_default=''),\n",
       " Row(property='API_PROVIDER', property_type='String', property_value='AWS_API_GATEWAY', property_default=''),\n",
       " Row(property='API_AWS_IAM_USER_ARN', property_type='String', property_value='arn:aws:iam::808930574284:user/g8vh-s-ohsx6469', property_default=''),\n",
       " Row(property='API_AWS_ROLE_ARN', property_type='String', property_value='arn:aws:iam::168714685353:role/snowflake-api-gateway-test', property_default=''),\n",
       " Row(property='API_AWS_EXTERNAL_ID', property_type='String', property_value='YP50190_SFCRole=2_lpHOvzBVA4v0na7vH1LeKjTjtxE=', property_default=''),\n",
       " Row(property='API_ALLOWED_PREFIXES', property_type='List', property_value='https://w72cfwmned.execute-api.us-west-1.amazonaws.com/stage', property_default='[]'),\n",
       " Row(property='API_BLOCKED_PREFIXES', property_type='List', property_value='', property_default='[]'),\n",
       " Row(property='COMMENT', property_type='String', property_value='', property_default='')]"
      ]
     },
     "execution_count": 7,
     "metadata": {},
     "output_type": "execute_result"
    }
   ],
   "source": [
    "# Create the integration\n",
    "# WARNING: The gateway's trust relationship must be updated if the api integration is recreated.\n",
    "def create_api_integration(api_integration_name, aws_role_arn, api_gateway_url):\n",
    "    return test_session.sql(f\"\"\"\n",
    "    create or replace api integration {api_integration_name}\n",
    "      api_provider = aws_api_gateway\n",
    "      api_aws_role_arn = '{aws_role_arn}'\n",
    "      api_allowed_prefixes = ('{api_gateway_url}')\n",
    "      enabled = true;\n",
    "    \"\"\").collect()\n",
    "def describe_api_integration(api_integration_name):\n",
    "    return test_session.sql(f\"describe integration {api_integration_name}\").collect()\n",
    "\n",
    "\n",
    "#create_api_integration(api_integration_name, aws_role_arn, api_gateway_url)\n",
    "describe_api_integration(api_integration_name)"
   ]
  },
  {
   "cell_type": "code",
   "execution_count": 8,
   "id": "53442d18",
   "metadata": {},
   "outputs": [
    {
     "name": "stdout",
     "output_type": "stream",
     "text": [
      "INFO:snowflake.connector.cursor:query: [create or replace function source_request_translator(event object) returns objec...]\n",
      "INFO:snowflake.connector.cursor:query execution done\n",
      "[Row(status='Function SOURCE_REQUEST_TRANSLATOR successfully created.')]\n",
      "INFO:snowflake.connector.cursor:query: [create or replace function source_response_translator(event object) returns obje...]\n",
      "INFO:snowflake.connector.cursor:query execution done\n",
      "[Row(status='Function SOURCE_RESPONSE_TRANSLATOR successfully created.')]\n",
      "INFO:snowflake.connector.cursor:query: [create or replace external function source_pokeapi_external_function(body varcha...]\n",
      "INFO:snowflake.connector.cursor:query execution done\n",
      "[Row(status='Function SOURCE_POKEAPI_EXTERNAL_FUNCTION successfully created.')]\n",
      "INFO:snowflake.connector.cursor:query: [describe function source_pokeapi_external_function (varchar, varchar)]\n",
      "INFO:snowflake.connector.cursor:query execution done\n"
     ]
    },
    {
     "data": {
      "text/plain": [
       "[Row(property='signature', value='(BODY VARCHAR, URLSUFFIX VARCHAR)'),\n",
       " Row(property='returns', value='VARIANT'),\n",
       " Row(property='language', value='EXTERNAL'),\n",
       " Row(property='null handling', value='CALLED ON NULL INPUT'),\n",
       " Row(property='volatility', value='VOLATILE'),\n",
       " Row(property='body', value='https://w72cfwmned.execute-api.us-west-1.amazonaws.com/stage'),\n",
       " Row(property='headers', value='null'),\n",
       " Row(property='context_headers', value='null'),\n",
       " Row(property='max_batch_rows', value='not set'),\n",
       " Row(property='request_translator', value='ALEX_TEST_DB.PUBLIC.SOURCE_REQUEST_TRANSLATOR'),\n",
       " Row(property='response_translator', value='ALEX_TEST_DB.PUBLIC.SOURCE_RESPONSE_TRANSLATOR'),\n",
       " Row(property='compression', value='AUTO')]"
      ]
     },
     "execution_count": 8,
     "metadata": {},
     "output_type": "execute_result"
    }
   ],
   "source": [
    "# Create external function and translators\n",
    "\n",
    "request_translator_name = \"source_request_translator\"\n",
    "response_translator_name = \"source_response_translator\"\n",
    "external_function_name = f\"{connector.replace('-', '_')}_external_function\"\n",
    "\n",
    "# Create request_translator\n",
    "# The same request translator can be used across multiple connectors\n",
    "def create_request_translator(request_translator_name):\n",
    "    return test_session.sql(f\"\"\"\n",
    "    create or replace function {request_translator_name}(event object)\n",
    "    returns object\n",
    "    language javascript as\n",
    "    '\n",
    "    body = EVENT.body.data[0][1]\n",
    "    suffixUrl = EVENT.body.data[0][2]\n",
    "    return {{ \"body\": body, \"urlSuffix\": suffixUrl}};\n",
    "    ';\n",
    "    \"\"\").collect()\n",
    "\n",
    "  \n",
    "# Create response translator\n",
    "# The same response translator can be used across multiple connectors\n",
    "def create_response_translator(response_translator_name):\n",
    "    return test_session.sql(f\"\"\"\n",
    "    create or replace function {response_translator_name}(event object)\n",
    "    returns object\n",
    "    language javascript as\n",
    "    '\n",
    "    return {{ \"body\": {{ \"data\" : [[0, EVENT]] }}}};\n",
    "    ';\n",
    "    \"\"\").collect()\n",
    "\n",
    "# Create external function\n",
    "# One external function per connector\n",
    "def create_external_function(external_function_name,\n",
    "                             api_integration_name,\n",
    "                             request_translator_name,\n",
    "                             response_translator_name,\n",
    "                             api_gateway_url):\n",
    "    query = f\"\"\"\n",
    "    create or replace external function {external_function_name}(body varchar, urlSuffix varchar)\n",
    "      returns variant\n",
    "      api_integration = {api_integration_name}\n",
    "      request_translator = {request_translator_name}\n",
    "      response_translator = {response_translator_name}\n",
    "      as '{api_gateway_url}';\n",
    "    \"\"\"\n",
    "    return test_session.sql(query).collect()\n",
    "\n",
    "def describe_external_function(external_function_name):\n",
    "    query = f\"describe function {external_function_name} (varchar, varchar)\"\n",
    "    return test_session.sql(query).collect()\n",
    "\n",
    "print(create_request_translator(request_translator_name))\n",
    "print(create_response_translator(response_translator_name))\n",
    "print(create_external_function(external_function_name, api_integration_name, request_translator_name, response_translator_name, api_gateway_url))\n",
    "\n",
    "describe_external_function(external_function_name)"
   ]
  },
  {
   "cell_type": "code",
   "execution_count": 9,
   "id": "297ce2ed",
   "metadata": {},
   "outputs": [],
   "source": [
    "def list_files_to_load(connector):\n",
    "    s3_paginator = boto3.client('s3').get_paginator('list_objects_v2')\n",
    "\n",
    "    def keys(bucket_name, prefix='/', delimiter='/', start_after=''):\n",
    "        prefix = prefix[1:] if prefix.startswith(delimiter) else prefix\n",
    "        start_after = (start_after or prefix) if prefix.endswith(delimiter) else start_after\n",
    "        for page in s3_paginator.paginate(Bucket=bucket_name, Prefix=prefix, StartAfter=start_after):\n",
    "            for content in page.get('Contents', ()):\n",
    "                key = content['Key']\n",
    "                yield key\n",
    "\n",
    "    keys = list(keys(bucket, prefix=f\"{connector}\"))\n",
    "\n",
    "    # Compute the list of files to import in the proc\n",
    "    # For now we're just loading everything\n",
    "    files_to_load = [f\"@mystage/{k}\" for k in keys if \"pendulum\" not in k]\n",
    "    return files_to_load"
   ]
  },
  {
   "cell_type": "code",
   "execution_count": 10,
   "id": "f5af7472",
   "metadata": {},
   "outputs": [
    {
     "name": "stdout",
     "output_type": "stream",
     "text": [
      "INFO:snowflake.connector.cursor:query: [create or REPLACE stage mystage url = 's3://airbyte.alex']\n",
      "INFO:snowflake.connector.cursor:query execution done\n"
     ]
    }
   ],
   "source": [
    "# Create a stage to store the code\n",
    "create_stage_result = test_session.sql(f\"create or REPLACE stage mystage url = 's3://{bucket}'\").collect()"
   ]
  },
  {
   "cell_type": "code",
   "execution_count": 11,
   "id": "00db06f6",
   "metadata": {},
   "outputs": [
    {
     "name": "stdout",
     "output_type": "stream",
     "text": [
      "INFO:botocore.credentials:Found credentials in shared credentials file: ~/.aws/credentials\n",
      "INFO:snowflake.connector.cursor:query: [create temporary stage if not exists \"ALEX_TEST_DB\".\"PUBLIC\".SNOWPARK_TEMP_STAGE...]\n",
      "INFO:snowflake.connector.cursor:query execution done\n",
      "INFO:snowflake.connector.cursor:query: [ls '@\"ALEX_TEST_DB\".\"PUBLIC\".SNOWPARK_TEMP_STAGE_4IO73B1R47']\n",
      "INFO:snowflake.connector.cursor:query execution done\n",
      "INFO:snowflake.connector.cursor:query: [SELECT \"name\" FROM ( SELECT  *  FROM  TABLE ( RESULT_SCAN('01a6f8dd-0000-be31-00...]\n",
      "INFO:snowflake.connector.cursor:query execution done\n",
      "INFO:snowflake.connector.cursor:query: [select package_name, version from information_schema.packages where language='py...]\n",
      "INFO:snowflake.connector.cursor:query execution done\n",
      "INFO:snowflake.connector.cursor:query: [CREATE OR REPLACE TEMPORARY PROCEDURE sync_connector(arg1 STRING,arg2 OBJECT) RE...]\n",
      "INFO:snowflake.connector.cursor:query execution done\n"
     ]
    }
   ],
   "source": [
    "# pendulum has to be installed as a package for reasons...\n",
    "@sproc(packages=['snowflake-snowpark-python', 'pendulum', 'pandas'], imports=list_files_to_load(connector), name=\"sync_connector\", replace=True)\n",
    "def compute(session: snowflake.snowpark.Session, to_table: str, config: dict) -> str:\n",
    "    from airbyte_cdk.models import ConfiguredAirbyteCatalog, ConfiguredAirbyteStream\n",
    "    from airbyte_cdk.models import SyncMode, DestinationSyncMode\n",
    "    import pandas as pd\n",
    "    \n",
    "\n",
    "#    from source_faker import SourceFaker\n",
    "    from source_pokeapi import SourcePokeapi\n",
    "    logger = logging.getLogger(\"logger\")\n",
    "#    source = SourceFaker()\n",
    "    source = SourcePokeapi()\n",
    "\n",
    "    catalog = source.discover(logger, config)\n",
    "    configured_catalog = ConfiguredAirbyteCatalog(\n",
    "        streams=[ConfiguredAirbyteStream(stream=s, sync_mode=SyncMode.full_refresh, destination_sync_mode=DestinationSyncMode.append) for s\n",
    "                 in catalog.streams])\n",
    "    \n",
    "    # hack: get the base url from the first stream...\n",
    "    base_url = source.streams(config)[0].url_base\n",
    "        \n",
    "    def patch_send(session):\n",
    "        import requests\n",
    "\n",
    "        def convert_request_to_external_function_input(request: requests.PreparedRequest):\n",
    "            body = request.body\n",
    "            headers = request.headers\n",
    "            url = request.url\n",
    "            return {\"body\": body, \"headers\": headers, \"url\": url}\n",
    "\n",
    "        def convert_external_function_output_to_response(output) -> requests.Response:\n",
    "            response = requests.Response()\n",
    "            response.status_code = 200\n",
    "            actual_output = list(output[0].as_dict().items())[0][1]\n",
    "            \n",
    "            response_as_json = json.loads(actual_output)\n",
    "            body = response_as_json[\"body\"]\n",
    "            \n",
    "            response._content = json.dumps(body).encode(\"ascii\")\n",
    "            return response\n",
    "\n",
    "        def new_session_send(self, request, **kwargs):\n",
    "            # convert to external function arguments\n",
    "            args = convert_request_to_external_function_input(request)\n",
    "\n",
    "            # call external function\n",
    "            if session:\n",
    "                #FIXME: No error handling...\n",
    "                path = \"/\" + args[\"url\"].replace(base_url, \"\")\n",
    "                #output_from_external_function = session.sql(f\"select source_pokeapi_external_function('', 'pokemon/ditto');\").collect()\n",
    "                #output_from_external_function = session.sql(f\"select source_pokeapi_external_function(, '{args['url']}');\").collect()\n",
    "                output_from_external_function = session.sql(f\"select source_pokeapi_external_function('{args['body']}', '{path}');\").collect()\n",
    "                response = convert_external_function_output_to_response(output_from_external_function)\n",
    "            else:\n",
    "                content = b'{\"data\": \"hello\"}'\n",
    "                response = requests.Response()\n",
    "                response.status_code = 200\n",
    "                response._content = content\n",
    "            return response\n",
    "\n",
    "        requests.sessions.Session.send = new_session_send\n",
    "    patch_send(session)\n",
    "    \n",
    "    #data = [1, 2, 3, 4]\n",
    "    keys_to_keep = [\"id\", \"name\", \"base_experience\", \"height\", \"weight\"]\n",
    "    for m in source.read(logger, config, configured_catalog, {}):\n",
    "        #data = json.dumps(m.record.data)\n",
    "        data = m.record.data\n",
    "        filtered_data = json.dumps(dict((key, value) for key, value in data.items() if key in keys_to_keep))\n",
    "        session.create_dataframe([filtered_data]).write.mode('append').save_as_table(to_table)\n",
    "    return str(data)"
   ]
  },
  {
   "cell_type": "code",
   "execution_count": 12,
   "id": "ccbf9209",
   "metadata": {},
   "outputs": [
    {
     "name": "stdout",
     "output_type": "stream",
     "text": [
      "INFO:snowflake.connector.cursor:query: [delete from public.test_pokeapi;]\n",
      "INFO:snowflake.connector.cursor:query execution done\n"
     ]
    },
    {
     "data": {
      "text/plain": [
       "[Row(number of rows deleted=3)]"
      ]
     },
     "execution_count": 12,
     "metadata": {},
     "output_type": "execute_result"
    }
   ],
   "source": [
    "# reset output table\n",
    "test_session.sql(\"delete from public.test_pokeapi;\").collect()"
   ]
  },
  {
   "cell_type": "code",
   "execution_count": null,
   "id": "63f57be5",
   "metadata": {},
   "outputs": [
    {
     "name": "stdout",
     "output_type": "stream",
     "text": [
      "INFO:snowflake.connector.cursor:query: [CALL sync_connector('public.test_pokeapi', parse_json('{\"pokemon_name\": \"articun...]\n",
      "INFO:snowflake.connector.cursor:query execution done\n",
      "INFO:snowflake.connector.cursor:query: [CALL sync_connector('public.test_pokeapi', parse_json('{\"pokemon_name\": \"zapdos\"...]\n",
      "INFO:snowflake.connector.cursor:query execution done\n",
      "INFO:snowflake.connector.cursor:query: [CALL sync_connector('public.test_pokeapi', parse_json('{\"pokemon_name\": \"moltres...]\n"
     ]
    }
   ],
   "source": [
    "test_session.call(\"sync_connector\", \"public.test_pokeapi\", {\"pokemon_name\": \"articuno\"})\n",
    "test_session.call(\"sync_connector\", \"public.test_pokeapi\", {\"pokemon_name\": \"zapdos\"})\n",
    "test_session.call(\"sync_connector\", \"public.test_pokeapi\", {\"pokemon_name\": \"moltres\"})"
   ]
  },
  {
   "cell_type": "code",
   "execution_count": null,
   "id": "acccf096",
   "metadata": {},
   "outputs": [],
   "source": [
    "test_session.sql(\"select * from public.test_pokeapi\").collect()"
   ]
  },
  {
   "cell_type": "code",
   "execution_count": null,
   "id": "a8721d53",
   "metadata": {},
   "outputs": [],
   "source": []
  }
 ],
 "metadata": {
  "kernelspec": {
   "display_name": "Python 3 (ipykernel)",
   "language": "python",
   "name": "python3"
  },
  "language_info": {
   "codemirror_mode": {
    "name": "ipython",
    "version": 3
   },
   "file_extension": ".py",
   "mimetype": "text/x-python",
   "name": "python",
   "nbconvert_exporter": "python",
   "pygments_lexer": "ipython3",
   "version": "3.8.9"
  }
 },
 "nbformat": 4,
 "nbformat_minor": 5
}
